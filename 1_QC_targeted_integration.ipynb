{
 "cells": [
  {
   "cell_type": "markdown",
   "metadata": {},
   "source": [
    "# Targeted phytochemical for  Apple QCs\n"
   ]
  },
  {
   "cell_type": "markdown",
   "metadata": {},
   "source": [
    "Author: Daniel Quiroz\n",
    "\n",
    "Date: 08/24/2023"
   ]
  },
  {
   "cell_type": "markdown",
   "metadata": {},
   "source": [
    "## Goal of this notebook\n",
    "\n",
    "This notebook has the objective to exemplify the use of targeted integration of phytochemicals that are present in untargeted metabolomics\n",
    "analysis of apple fruit reported in in [Bilbrey et al. (2022)](https://nph.onlinelibrary.wiley.com/doi/full/10.1111/nph.17693)\n",
    "\n",
    "In this case, we are going to use only the *quality control (QC)* samples."
   ]
  },
  {
   "cell_type": "markdown",
   "metadata": {},
   "source": [
    "## Importing python libraries\n",
    "\n",
    "In this section, we will upload the required in order to be able to targeted integrate a series of phytochemicals found in apples fruits.\n",
    "The main library for this purpose is [ms-mint](https://github.com/LewisResearchGroup/ms-mint) which allows to targeted integrate\n",
    "ions of interest. In our case, each ion of interest refers to a specific phytochemical. For example, chlorogenic acid with a monoisotopic mass\n",
    "of 354.0950 Da, and the ion in positive ionization mode will be 355.1023 *m/z* while a mass of 353.0877 *m/z* corresponds to negative ionization."
   ]
  },
  {
   "cell_type": "code",
   "execution_count": 1,
   "metadata": {},
   "outputs": [],
   "source": [
    "# ms-mint: Instance for MS spectrometry data\n",
    "from ms_mint.Mint import Mint\n",
    "import pandas as pd # Data wrangling\n",
    "import numpy as np\n",
    "import re # Regular expressions\n",
    "import glob # listing files\n",
    "import seaborn as sns\n",
    "import plotly.express as px # Interactive plots\n",
    "import pickle # Export python object\n",
    "#from ms_mint.notebook import Mint\n",
    "mint = Mint()"
   ]
  },
  {
   "cell_type": "markdown",
   "metadata": {},
   "source": [
    "## Selecting QCs files"
   ]
  },
  {
   "cell_type": "markdown",
   "metadata": {},
   "source": [
    "### Negative ionization files"
   ]
  },
  {
   "cell_type": "markdown",
   "metadata": {},
   "source": [
    "Here, we are going to select all QC files, and we are printing the first 5 QC files."
   ]
  },
  {
   "cell_type": "code",
   "execution_count": 2,
   "metadata": {},
   "outputs": [
    {
     "data": {
      "text/plain": [
       "['Data/mzML/Neg/QC_035.mzML',\n",
       " 'Data/mzML/Neg/QC_189.mzML',\n",
       " 'Data/mzML/Neg/QC_042.mzML',\n",
       " 'Data/mzML/Neg/QC_014.mzML',\n",
       " 'Data/mzML/Neg/QC_147.mzML']"
      ]
     },
     "execution_count": 2,
     "metadata": {},
     "output_type": "execute_result"
    }
   ],
   "source": [
    "QC_files_neg = glob.glob(\"Data/mzML/Neg/QC*\")\n",
    "QC_files_neg[0:5]"
   ]
  },
  {
   "cell_type": "markdown",
   "metadata": {},
   "source": [
    "###  Target ion list"
   ]
  },
  {
   "cell_type": "code",
   "execution_count": null,
   "metadata": {},
   "outputs": [],
   "source": [
    "target_list_neg = pd.read_excel(\"Data/Tables/targets.xlsx\", sheet_name = \"target_neg\")"
   ]
  }
 ],
 "metadata": {
  "kernelspec": {
   "display_name": "matchms",
   "language": "python",
   "name": "matchms"
  },
  "language_info": {
   "codemirror_mode": {
    "name": "ipython",
    "version": 3
   },
   "file_extension": ".py",
   "mimetype": "text/x-python",
   "name": "python",
   "nbconvert_exporter": "python",
   "pygments_lexer": "ipython3",
   "version": "3.8.17"
  },
  "orig_nbformat": 4
 },
 "nbformat": 4,
 "nbformat_minor": 2
}
